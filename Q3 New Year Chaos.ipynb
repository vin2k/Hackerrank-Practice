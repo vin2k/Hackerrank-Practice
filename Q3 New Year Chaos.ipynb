{
 "cells": [
  {
   "cell_type": "markdown",
   "metadata": {},
   "source": [
    "It's New Year's Day and everyone's in line for the Wonderland rollercoaster ride! There are a number of people queued up, and each person wears a sticker indicating their initial position in the queue. Initial positions increment by  from  at the front of the line to  at the back.<br>\n",
    "<br>\n",
    "Any person in the queue can bribe the person directly in front of them to swap positions. If two people swap positions, they still wear the same sticker denoting their original places in line. One person can bribe at most two others.<br>\n",
    "<br>\n",
    "Fascinated by this chaotic queue, you decide you must know the minimum number of bribes that took place to get the queue into its current state!\n",
    "<br>\n",
    "**Input Format**\n",
    "\n",
    "The first line contains an integer , the number of test cases.<br>\n",
    "\n",
    "Each of the next  pairs of lines are as follows: <br>\n",
    "- The first line contains an integer , the number of people in the queue <br>\n",
    "- The second line has  space-separated integers describing the final state of the queue.<br>\n",
    "<br>\n",
    "**Output Format**\n",
    "\n",
    "Print an integer denoting the minimum number of bribes needed to get the queue into its final state. Print Too chaotic if the state is invalid, i.e. it requires a person to have bribed more than  people.<br>\n",
    "<br>\n",
    "**Sample Input**\n",
    "\n",
    "2<br>\n",
    "5<br>\n",
    "2 1 5 3 4<br>\n",
    "5<br>\n",
    "2 5 1 3 4<br>\n",
    "<br>\n",
    "**Sample Output**\n",
    "\n",
    "3<br>\n",
    "Too chaotic "
   ]
  },
  {
   "cell_type": "code",
   "execution_count": 1,
   "metadata": {},
   "outputs": [
    {
     "name": "stdout",
     "output_type": "stream",
     "text": [
      "1\n",
      "4\n",
      "1 3 2 4\n",
      "1\n"
     ]
    }
   ],
   "source": [
    "# Complete the minimumBribes function below.\n",
    "def minimumBribes(q, n):\n",
    "    bribes = 0\n",
    "    q = [l-1 for l in q]\n",
    "    for i, Q in enumerate(q):\n",
    "        if Q-i > 2:\n",
    "            print(\"Too chaotic\")\n",
    "            return\n",
    "        for j in range(max(Q-1, 0), i):\n",
    "            if q[j] > Q:\n",
    "                bribes += 1\n",
    "    print(bribes)\n",
    "if __name__ == '__main__':\n",
    "    t = int(input())\n",
    "\n",
    "    for t_itr in range(t):\n",
    "        n = int(input())\n",
    "\n",
    "        q = list(map(int, input().rstrip().split()))\n",
    "\n",
    "        minimumBribes(q, n)"
   ]
  }
 ],
 "metadata": {
  "kernelspec": {
   "display_name": "Python 3",
   "language": "python",
   "name": "python3"
  },
  "language_info": {
   "codemirror_mode": {
    "name": "ipython",
    "version": 3
   },
   "file_extension": ".py",
   "mimetype": "text/x-python",
   "name": "python",
   "nbconvert_exporter": "python",
   "pygments_lexer": "ipython3",
   "version": "3.6.5"
  }
 },
 "nbformat": 4,
 "nbformat_minor": 2
}
