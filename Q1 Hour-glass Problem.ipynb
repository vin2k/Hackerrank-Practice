{
 "cells": [
  {
   "cell_type": "markdown",
   "metadata": {},
   "source": [
    "# Given a 2D Array:\n",
    "***\n",
    "1 1 1 0 0 0<br>\n",
    "0 1 0 0 0 0<br>\n",
    "1 1 1 0 0 0<br>\n",
    "0 0 0 0 0 0<br>\n",
    "0 0 0 0 0 0<br>\n",
    "0 0 0 0 0 0<br><br>\n",
    "We define an hourglass in to be a subset of values with indices falling in this pattern in 's graphical\n",
    "representation:<br>\n",
    "a b c<br>\n",
    "  d<br>\n",
    "e f g<br><br>\n",
    "There are hourglasses in , and an hourglass sum is the sum of an hourglass' values. Calculate the\n",
    "hourglass sum for every hourglass in , then print the maximum hourglass sum.<br>\n",
    "For example, given the 2D array:<br>\n",
    "-9 -9 -9 1 1 1<br>\n",
    "0 -9 0 4 3 2<br>\n",
    "-9 -9 -9 1 2 3<br>\n",
    "0 0 8 6 6 0<br>\n",
    "0 0 0 -2 0 0<br>\n",
    "0 0 1 2 4 0<br><br>\n",
    "We calculate the following hourglass values:<br>\n",
    "-63, -34, -9, 12,<br>\n",
    "-10, 0, 28, 23,<br>\n",
    "-27, -11, -2, 10,<br>\n",
    "9, 17, 25, 18<br><br>\n",
    "Our highest hourglass value is from the hourglass:<br>\n",
    "0 4 3<br>\n",
    " 1<br>\n",
    "8 6 6<br><br>\n",
    "**Input Format**<br>\n",
    "Each of the lines of inputs contains space-separated integers.<br>\n",
    "<br>\n",
    "**Output Format**<br>\n",
    "Print the largest (maximum) hourglass sum found in.<br>\n",
    "<br>\n",
    "**Sample Input**<br>\n",
    "1 1 1 0 0 0<br>\n",
    "0 1 0 0 0 0<br>\n",
    "1 1 1 0 0 0<br>\n",
    "0 0 2 4 4 0<br>\n",
    "0 0 0 2 0 0<br>\n",
    "0 0 1 2 4 0<br>\n",
    "<br>\n",
    "**Sample Output**<br>\n",
    "19"
   ]
  },
  {
   "cell_type": "code",
   "execution_count": 2,
   "metadata": {},
   "outputs": [
    {
     "name": "stdout",
     "output_type": "stream",
     "text": [
      "1 3 2 3 4 2\n",
      "2 44 23 5 6 4\n",
      "1 0 5 3 2 6\n",
      "3 5 6 2 55 2\n",
      "1 2 3 5 2 8\n",
      "4 3 0 0 0 1\n",
      "100\n",
      "\n"
     ]
    }
   ],
   "source": [
    "def hourglassSum(arr):\n",
    "    arrlis = []\n",
    "    m=0\n",
    "    i = 0\n",
    "    while i < 4:\n",
    "        s=0\n",
    "        for j in range(m, 3+m):\n",
    "            s += arr[i][j]\n",
    "            if j == m:\n",
    "                s += arr[i+1][j+1]\n",
    "            s += arr[i+2][j]\n",
    "        arrlis.append(s)\n",
    "        # print(s)\n",
    "        m = m+1 if m<3 else 0\n",
    "        if m == 0:\n",
    "            i = i + 1\n",
    "        \n",
    "    arrlis.sort(reverse=True)\n",
    "    return arrlis[0]\n",
    "\n",
    "if __name__ == '__main__':\n",
    "    arr = []\n",
    "\n",
    "    for _ in range(6):\n",
    "        arr.append(list(map(int, input().rstrip().split())))\n",
    "\n",
    "    result = hourglassSum(arr)\n",
    "\n",
    "    print(str(result) + '\\n')"
   ]
  }
 ],
 "metadata": {
  "kernelspec": {
   "display_name": "Python 3",
   "language": "python",
   "name": "python3"
  },
  "language_info": {
   "codemirror_mode": {
    "name": "ipython",
    "version": 3
   },
   "file_extension": ".py",
   "mimetype": "text/x-python",
   "name": "python",
   "nbconvert_exporter": "python",
   "pygments_lexer": "ipython3",
   "version": "3.6.5"
  }
 },
 "nbformat": 4,
 "nbformat_minor": 2
}
