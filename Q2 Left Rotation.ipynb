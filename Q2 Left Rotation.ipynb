{
 "cells": [
  {
   "cell_type": "markdown",
   "metadata": {},
   "source": [
    "# A left rotation operation on an array shifts each of the array's elements  unit to the left. For example, if  left rotations are performed on array, then the array would become.\n",
    "\n",
    "Given an array **a** of **n** integers and a number, **d**, perform **d** left rotations on the array. Return the updated array to be printed as a single line of space-separated integers.<br>\n",
    "<br>\n",
    "**Function Description**\n",
    "\n",
    "Complete the function rotLeft in the editor below. It should return the resulting array of integers.<br>\n",
    "<br>\n",
    "**Input Format**\n",
    "\n",
    "The first line contains two space-separated integers  and , the size of  and the number of left rotations you must perform.<br>\n",
    "The second line contains  space-separated integers.<br>\n",
    "<br>\n",
    "**Output Format**\n",
    "\n",
    "Print a single line of  space-separated integers denoting the final state of the array after performing  left rotations.<br>\n",
    "<br>\n",
    "**Sample Input**\n",
    "\n",
    "5 4\n",
    "1 2 3 4 5<br>\n",
    "<br>\n",
    "**Sample Output**\n",
    "\n",
    "5 1 2 3 4"
   ]
  },
  {
   "cell_type": "code",
   "execution_count": 2,
   "metadata": {},
   "outputs": [
    {
     "name": "stdout",
     "output_type": "stream",
     "text": [
      "3 1\n",
      "1 5 2\n",
      "5 2 1\n"
     ]
    }
   ],
   "source": [
    "# Complete the rotLeft function below.\n",
    "def rotLeft(a, d, n):\n",
    "    temp = a.copy()\n",
    "    for i in range(n):\n",
    "        a[(n-d+i)%n] = temp[i]\n",
    "    return a\n",
    "if __name__ == '__main__':\n",
    "    nd = input().split()\n",
    "\n",
    "    n = int(nd[0])\n",
    "\n",
    "    d = int(nd[1])\n",
    "\n",
    "    a = list(map(int, input().rstrip().split()))\n",
    "\n",
    "    result = rotLeft(a, d, n)\n",
    "\n",
    "    print(' '.join(map(str, result)))"
   ]
  }
 ],
 "metadata": {
  "kernelspec": {
   "display_name": "Python 3",
   "language": "python",
   "name": "python3"
  },
  "language_info": {
   "codemirror_mode": {
    "name": "ipython",
    "version": 3
   },
   "file_extension": ".py",
   "mimetype": "text/x-python",
   "name": "python",
   "nbconvert_exporter": "python",
   "pygments_lexer": "ipython3",
   "version": "3.6.5"
  }
 },
 "nbformat": 4,
 "nbformat_minor": 2
}
